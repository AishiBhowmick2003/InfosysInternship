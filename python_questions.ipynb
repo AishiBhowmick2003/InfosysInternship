{
  "nbformat": 4,
  "nbformat_minor": 0,
  "metadata": {
    "colab": {
      "provenance": []
    },
    "kernelspec": {
      "name": "python3",
      "display_name": "Python 3"
    },
    "language_info": {
      "name": "python"
    }
  },
  "cells": [
    {
      "cell_type": "code",
      "execution_count": 1,
      "metadata": {
        "colab": {
          "base_uri": "https://localhost:8080/"
        },
        "id": "9Gb3yVcjreiV",
        "outputId": "e0618bd4-cb5e-435c-bb3f-2f69b8d66328"
      },
      "outputs": [
        {
          "output_type": "stream",
          "name": "stdout",
          "text": [
            "Kumar Ravi Patel\n"
          ]
        }
      ],
      "source": [
        "input=\"Ravi Kumar Patel\"\n",
        "parts=input.split()\n",
        "\n",
        "def swap(input):\n",
        "    for word in parts:\n",
        "        if len(parts)==3:\n",
        "             output=f\"{parts[1]} {parts[0]} {parts[2]}\"\n",
        "             return output\n",
        "        else:\n",
        "            return \"There should be exactly 3 words\"\n",
        "\n",
        "\n",
        "\n",
        "output=swap(input)\n",
        "print(output)"
      ]
    },
    {
      "cell_type": "code",
      "source": [
        "list = [87,43 ,76,1,99,23,8]\n",
        "max=list[0]\n",
        "for i in list:\n",
        "    if(i>max):\n",
        "        max=i\n",
        "print(max)"
      ],
      "metadata": {
        "colab": {
          "base_uri": "https://localhost:8080/"
        },
        "id": "TqD39NRTrg-q",
        "outputId": "e4782c5d-4a98-4f2d-eb97-a1e717b5ca5b"
      },
      "execution_count": 2,
      "outputs": [
        {
          "output_type": "stream",
          "name": "stdout",
          "text": [
            "99\n"
          ]
        }
      ]
    },
    {
      "cell_type": "code",
      "source": [
        "\n",
        "input=\"google\"\n",
        "count={}\n",
        "for char in input:\n",
        "    if char in count:\n",
        "        count[char]+=1\n",
        "    else:\n",
        "        count[char]=1\n",
        "for char in count:\n",
        "    print(f\"{char}={count[char]}\")"
      ],
      "metadata": {
        "colab": {
          "base_uri": "https://localhost:8080/"
        },
        "id": "qfWUggJ4rnXT",
        "outputId": "fc9e6f22-b377-40a0-98de-3465e2c247b7"
      },
      "execution_count": 3,
      "outputs": [
        {
          "output_type": "stream",
          "name": "stdout",
          "text": [
            "g=2\n",
            "o=2\n",
            "l=1\n",
            "e=1\n"
          ]
        }
      ]
    },
    {
      "cell_type": "code",
      "source": [
        "num=[num for num in range (1,1001) if num%7==0]\n",
        "num=[num for num in range (1,1001) if num%7==0]\n",
        "print(num)\n",
        "\n",
        "input=[75,8,94,2,23,29,100]\n",
        "evenorodd=[\"even\" if num%2==0  else \"odd\" for num in input]\n",
        "print(evenorodd)\n",
        "evenorodd=[\"even\" if num%2==0  else \"odd\" for num in input]\n",
        "print(evenorodd)"
      ],
      "metadata": {
        "colab": {
          "base_uri": "https://localhost:8080/"
        },
        "id": "2Y9kjb3nrog7",
        "outputId": "18e6bfc1-222d-4196-9c9d-fae672775849"
      },
      "execution_count": 5,
      "outputs": [
        {
          "output_type": "stream",
          "name": "stdout",
          "text": [
            "[7, 14, 21, 28, 35, 42, 49, 56, 63, 70, 77, 84, 91, 98, 105, 112, 119, 126, 133, 140, 147, 154, 161, 168, 175, 182, 189, 196, 203, 210, 217, 224, 231, 238, 245, 252, 259, 266, 273, 280, 287, 294, 301, 308, 315, 322, 329, 336, 343, 350, 357, 364, 371, 378, 385, 392, 399, 406, 413, 420, 427, 434, 441, 448, 455, 462, 469, 476, 483, 490, 497, 504, 511, 518, 525, 532, 539, 546, 553, 560, 567, 574, 581, 588, 595, 602, 609, 616, 623, 630, 637, 644, 651, 658, 665, 672, 679, 686, 693, 700, 707, 714, 721, 728, 735, 742, 749, 756, 763, 770, 777, 784, 791, 798, 805, 812, 819, 826, 833, 840, 847, 854, 861, 868, 875, 882, 889, 896, 903, 910, 917, 924, 931, 938, 945, 952, 959, 966, 973, 980, 987, 994]\n",
            "['odd', 'even', 'even', 'even', 'odd', 'odd', 'even']\n",
            "['odd', 'even', 'even', 'even', 'odd', 'odd', 'even']\n"
          ]
        }
      ]
    },
    {
      "cell_type": "code",
      "source": [
        "input_string = \"hello 1 hi 9 . How are 10\"\n",
        "num=[int(word)  for word in input_string.split() if word.isdigit()]\n",
        "print(num)\n"
      ],
      "metadata": {
        "colab": {
          "base_uri": "https://localhost:8080/"
        },
        "id": "ZISu5x5KrsOW",
        "outputId": "8ea6997d-f212-4ead-83b1-da6b6fe45cc4"
      },
      "execution_count": 7,
      "outputs": [
        {
          "output_type": "stream",
          "name": "stdout",
          "text": [
            "[1, 9, 10]\n"
          ]
        }
      ]
    },
    {
      "cell_type": "code",
      "source": [
        "\n",
        "def validate_email(email):\n",
        "\n",
        "    is_valid = [1 for part in email.split('@') if len(part) > 0]\n",
        "    if len(is_valid) == 2 and '.' in email.split('@')[1]:\n",
        "        return \"Correct\"\n",
        "    else:\n",
        "        return \"Incorrect\"\n",
        "email = \"xyz@gmail.com\"\n",
        "result = validate_email(email)\n",
        "print(f\"{email}={result}\")"
      ],
      "metadata": {
        "colab": {
          "base_uri": "https://localhost:8080/"
        },
        "id": "kz8NebvXr9fa",
        "outputId": "ea5c6bce-ff02-4ca5-bf45-e054408a024d"
      },
      "execution_count": 8,
      "outputs": [
        {
          "output_type": "stream",
          "name": "stdout",
          "text": [
            "xyz@gmail.com=Correct\n"
          ]
        }
      ]
    },
    {
      "cell_type": "code",
      "source": [
        "try:\n",
        "    del input\n",
        "except NameError:\n",
        "    pass\n",
        "user_string = input(\"Enter the string: \")\n",
        "string_without_spaces = user_string.replace(\" \", \"\")\n",
        "print(string_without_spaces)"
      ],
      "metadata": {
        "colab": {
          "base_uri": "https://localhost:8080/"
        },
        "id": "gvR4El-WsC1W",
        "outputId": "3bb8fe16-bc70-4d3f-b3a8-82f6f67dccc5"
      },
      "execution_count": 17,
      "outputs": [
        {
          "output_type": "stream",
          "name": "stdout",
          "text": [
            "Enter the string: hi aishi\n",
            "hiaishi\n"
          ]
        }
      ]
    },
    {
      "cell_type": "code",
      "source": [
        "sum=0\n",
        "list=[num for num in range(1,51)]\n",
        "for number in list:\n",
        "    sum+=number\n",
        "print(sum)"
      ],
      "metadata": {
        "colab": {
          "base_uri": "https://localhost:8080/"
        },
        "id": "xR4Nh2bntG6_",
        "outputId": "941e6ae7-7c6d-4122-d617-a1ab3658d5a4"
      },
      "execution_count": 14,
      "outputs": [
        {
          "output_type": "stream",
          "name": "stdout",
          "text": [
            "1275\n"
          ]
        }
      ]
    },
    {
      "cell_type": "code",
      "source": [
        "\n",
        "s=input(\"Enter a string :\")\n",
        "if s.isalnum():\n",
        "    print(\"The string is alphanumeric\")\n",
        "else:\n",
        "    print(\"The string is not alphanumeric\")"
      ],
      "metadata": {
        "colab": {
          "base_uri": "https://localhost:8080/"
        },
        "id": "sJ-OMj0etPx_",
        "outputId": "032919a6-c29c-4d24-a77a-394626b998e0"
      },
      "execution_count": 16,
      "outputs": [
        {
          "output_type": "stream",
          "name": "stdout",
          "text": [
            "Enter a string :hwllo1\n",
            "The string is alphanumeric\n"
          ]
        }
      ]
    }
  ]
}