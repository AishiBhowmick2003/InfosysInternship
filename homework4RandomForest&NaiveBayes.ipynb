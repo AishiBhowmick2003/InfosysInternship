{
 "cells": [
  {
   "cell_type": "code",
   "execution_count": 1,
   "id": "06808d47-5eee-44ab-b7f0-d2b8883ba7a0",
   "metadata": {},
   "outputs": [],
   "source": [
    "import pandas as pd\n",
    "from sklearn.model_selection import train_test_split\n",
    "from sklearn.ensemble import RandomForestClassifier\n",
    "from sklearn.naive_bayes import GaussianNB\n",
    "from sklearn.metrics import accuracy_score, classification_report"
   ]
  },
  {
   "cell_type": "code",
   "execution_count": 5,
   "id": "c5d88c7d-887c-48db-9f20-ff68170f6a05",
   "metadata": {},
   "outputs": [],
   "source": [
    "file_path = \"bankloan.csv\"\n",
    "bankloan_data = pd.read_csv(file_path)"
   ]
  },
  {
   "cell_type": "code",
   "execution_count": 6,
   "id": "84e5e34a-7b93-48a5-b600-1f4528bcf6fd",
   "metadata": {},
   "outputs": [],
   "source": [
    "X = bankloan_data.drop(columns=[\"ID\", \"ZIP.Code\", \"Personal.Loan\"])\n",
    "y = bankloan_data[\"Personal.Loan\"]"
   ]
  },
  {
   "cell_type": "code",
   "execution_count": 7,
   "id": "f4a6ac33-45a7-424f-a151-912c2cfa8abb",
   "metadata": {},
   "outputs": [],
   "source": [
    "X_train, X_test, y_train, y_test = train_test_split(X, y, test_size=0.2, random_state=42, stratify=y)"
   ]
  },
  {
   "cell_type": "code",
   "execution_count": 8,
   "id": "b7cbe1b0-bd39-495d-82a0-979ce700849a",
   "metadata": {},
   "outputs": [],
   "source": [
    "rf_model = RandomForestClassifier(n_estimators=100, random_state=42)\n",
    "rf_model.fit(X_train, y_train)\n",
    "rf_predictions = rf_model.predict(X_test)"
   ]
  },
  {
   "cell_type": "code",
   "execution_count": 9,
   "id": "40d107b5-ba63-42d2-842f-fef0c8f9c5a6",
   "metadata": {},
   "outputs": [
    {
     "name": "stdout",
     "output_type": "stream",
     "text": [
      "Random Forest Accuracy: 0.992\n",
      "\n",
      "Classification Report for Random Forest:\n",
      "               precision    recall  f1-score   support\n",
      "\n",
      "           0       0.99      1.00      1.00       904\n",
      "           1       0.98      0.94      0.96        96\n",
      "\n",
      "    accuracy                           0.99      1000\n",
      "   macro avg       0.99      0.97      0.98      1000\n",
      "weighted avg       0.99      0.99      0.99      1000\n",
      "\n"
     ]
    }
   ],
   "source": [
    "rf_accuracy = accuracy_score(y_test, rf_predictions)\n",
    "rf_report = classification_report(y_test, rf_predictions)\n",
    "print(\"Random Forest Accuracy:\", rf_accuracy)\n",
    "print(\"\\nClassification Report for Random Forest:\\n\", rf_report)"
   ]
  },
  {
   "cell_type": "code",
   "execution_count": 10,
   "id": "d6150c29-3ec3-4c21-9092-d9f0ddba0da2",
   "metadata": {},
   "outputs": [],
   "source": [
    "nb_model = GaussianNB()\n",
    "nb_model.fit(X_train, y_train)\n",
    "nb_predictions = nb_model.predict(X_test)"
   ]
  },
  {
   "cell_type": "code",
   "execution_count": 11,
   "id": "6ffba5a5-9998-4bd6-92e5-9a438952a12f",
   "metadata": {},
   "outputs": [
    {
     "name": "stdout",
     "output_type": "stream",
     "text": [
      "Naive Bayes Accuracy: 0.878\n",
      "\n",
      "Classification Report for Naive Bayes:\n",
      "               precision    recall  f1-score   support\n",
      "\n",
      "           0       0.95      0.91      0.93       904\n",
      "           1       0.40      0.55      0.46        96\n",
      "\n",
      "    accuracy                           0.88      1000\n",
      "   macro avg       0.68      0.73      0.70      1000\n",
      "weighted avg       0.90      0.88      0.89      1000\n",
      "\n"
     ]
    }
   ],
   "source": [
    "nb_accuracy = accuracy_score(y_test, nb_predictions)\n",
    "nb_report = classification_report(y_test, nb_predictions)\n",
    "print(\"Naive Bayes Accuracy:\", nb_accuracy)\n",
    "print(\"\\nClassification Report for Naive Bayes:\\n\", nb_report)"
   ]
  },
  {
   "cell_type": "code",
   "execution_count": 12,
   "id": "4fd695dd-9e4c-4b91-9163-5921e3a9eaac",
   "metadata": {},
   "outputs": [],
   "source": [
    "if rf_accuracy > nb_accuracy:\n",
    "    best_model = \"Random Forest \"\n",
    "    best_accuracy = rf_accuracy\n",
    "else:\n",
    "    best_model = \"Naive Bayes \"\n",
    "    best_accuracy = nb_accuracy"
   ]
  },
  {
   "cell_type": "code",
   "execution_count": 13,
   "id": "84fdb637-514a-4733-a41e-fd70ba8b7e32",
   "metadata": {},
   "outputs": [
    {
     "name": "stdout",
     "output_type": "stream",
     "text": [
      "The most accurate classifier is Random Forest is more accurate with an accuracy of 99.20%.\n"
     ]
    }
   ],
   "source": [
    "print(f\"The most accurate classifier is {best_model} with an accuracy of {best_accuracy:.2%}.\")"
   ]
  },
  {
   "cell_type": "code",
   "execution_count": null,
   "id": "cb2dd7db-3aa5-40fc-9cef-c6c3daefe84c",
   "metadata": {},
   "outputs": [],
   "source": []
  }
 ],
 "metadata": {
  "kernelspec": {
   "display_name": "Python 3 (ipykernel)",
   "language": "python",
   "name": "python3"
  },
  "language_info": {
   "codemirror_mode": {
    "name": "ipython",
    "version": 3
   },
   "file_extension": ".py",
   "mimetype": "text/x-python",
   "name": "python",
   "nbconvert_exporter": "python",
   "pygments_lexer": "ipython3",
   "version": "3.12.2"
  }
 },
 "nbformat": 4,
 "nbformat_minor": 5
}
